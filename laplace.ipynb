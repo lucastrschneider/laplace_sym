{
 "metadata": {
  "language_info": {
   "codemirror_mode": {
    "name": "ipython",
    "version": 3
   },
   "file_extension": ".py",
   "mimetype": "text/x-python",
   "name": "python",
   "nbconvert_exporter": "python",
   "pygments_lexer": "ipython3",
   "version": "3.8.2-final"
  },
  "orig_nbformat": 2,
  "kernelspec": {
   "name": "python38264bit9838909551d74a6aa782184662a5b61b",
   "display_name": "Python 3.8.2 64-bit"
  }
 },
 "nbformat": 4,
 "nbformat_minor": 2,
 "cells": [
  {
   "cell_type": "markdown",
   "metadata": {},
   "source": [
    "# Laplace\n",
    "\n",
    "Notebook to perform Laplace transformations\n",
    "\n",
    "Author: Lucas Schneider\n",
    "\n",
    "---"
   ]
  },
  {
   "cell_type": "markdown",
   "metadata": {},
   "source": [
    "## Initialization"
   ]
  },
  {
   "cell_type": "code",
   "execution_count": null,
   "metadata": {
    "tags": []
   },
   "outputs": [],
   "source": [
    "import sympy as sym\n",
    "import numpy as np\n",
    "#import oct2py\n",
    "\n",
    "from sympy.integrals import laplace_transform\n",
    "from sympy.integrals import inverse_laplace_transform\n",
    "\n",
    "# sym.init_printing()"
   ]
  },
  {
   "cell_type": "code",
   "execution_count": null,
   "metadata": {},
   "outputs": [],
   "source": [
    "t_var = sym.symbols('t', real=True)\n",
    "s_var = sym.symbols('s')"
   ]
  },
  {
   "cell_type": "markdown",
   "metadata": {},
   "source": [
    "## Direct Transform"
   ]
  },
  {
   "cell_type": "code",
   "execution_count": null,
   "metadata": {},
   "outputs": [],
   "source": [
    "# Other symbols declaration\n",
    "phi = sym.symbols('φ', real=True)"
   ]
  },
  {
   "cell_type": "code",
   "execution_count": null,
   "metadata": {
    "tags": []
   },
   "outputs": [],
   "source": [
    "# Input\n",
    "expression = sym.cos(t_var)\n",
    "\n",
    "expression *= sym.Heaviside(t_var)\n",
    "print(str(expression).replace('**','^'))\n",
    "expression"
   ]
  },
  {
   "cell_type": "code",
   "execution_count": null,
   "metadata": {},
   "outputs": [],
   "source": [
    "U = laplace_transform(expression, t_var, s_var)\n",
    "U[0]"
   ]
  },
  {
   "cell_type": "markdown",
   "metadata": {},
   "source": [
    "## Inverse Transform"
   ]
  },
  {
   "cell_type": "code",
   "execution_count": null,
   "metadata": {},
   "outputs": [],
   "source": [
    "pol = (((s_var - (1 + 2*sym.I))*(s_var - (1 - 2*sym.I))) ** 2)*(s_var-1)*(s_var-(2+sym.I))*(s_var-(2-sym.I))\n",
    "pol.expand()"
   ]
  },
  {
   "cell_type": "code",
   "execution_count": null,
   "metadata": {
    "tags": []
   },
   "outputs": [],
   "source": [
    "N_list = [1, 5, 4, 3, 1]\n",
    "D_list = [1, 3, 2, 0]\n",
    "\n",
    "N_pol = sym.Poly(N_list, s_var)\n",
    "D_pol = sym.Poly(D_list, s_var)\n",
    "F_raw = N_pol / D_pol\n",
    "print(str(F_raw).replace('**','^'))\n",
    "F_raw"
   ]
  },
  {
   "cell_type": "code",
   "execution_count": null,
   "metadata": {
    "tags": []
   },
   "outputs": [],
   "source": [
    "# Perform the partial fraction decomposition\n",
    "sum_of_complete, sum_of_fraction = sym.div(N_pol, D_pol)\n",
    "\n",
    "sum_of_fraction = sym.apart(sum_of_fraction / D_pol, full=True).doit()\n",
    "\n",
    "fraction_terms = list(sum_of_fraction.args)\n",
    "fraction_terms = [frac.simplify() for frac in fraction_terms]\n",
    "\n",
    "complete_terms = [list(reversed(sum_of_complete.coeffs()))[i] * s_var ** i for i in range(len(sum_of_complete.coeffs()))]\n",
    "\n",
    "print(str(sum(complete_terms) + sum(fraction_terms)).replace('**','^'))\n",
    "sum(complete_terms) + sum(fraction_terms)"
   ]
  },
  {
   "cell_type": "code",
   "execution_count": null,
   "metadata": {
    "tags": []
   },
   "outputs": [],
   "source": [
    "# Get a list of poles and their multiplicity\n",
    "poles = []\n",
    "multi = []\n",
    "\n",
    "roots_dict = sym.polys.polyroots.roots(D_pol)\n",
    "for root in roots_dict.keys():\n",
    "    for i in range(roots_dict[root]):\n",
    "        poles.append(root)\n",
    "        multi.append(i+1)\n",
    "        \n",
    "# print(poles)\n",
    "# print(multi)"
   ]
  },
  {
   "cell_type": "code",
   "execution_count": null,
   "metadata": {
    "tags": []
   },
   "outputs": [],
   "source": [
    "# Get the residues for each pole\n",
    "residues = []\n",
    "\n",
    "for i in range(len(poles)):\n",
    "    for frac in fraction_terms:\n",
    "        possible_residue = (frac * ((s_var - poles[i]) ** multi[i])).simplify()\n",
    "        if str(s_var) not in str(possible_residue):\n",
    "            # print(possible_residue, poles[i], sep='   ')\n",
    "            residues.append(possible_residue)\n",
    "            \n",
    "print(residues, poles, multi, sep='\\n')"
   ]
  },
  {
   "cell_type": "code",
   "execution_count": null,
   "metadata": {},
   "outputs": [],
   "source": [
    "def conjugate_already_seen(pole, multi, poles_seen):\n",
    "    for pole_seen, multi_seen in poles_seen:\n",
    "        if (pole.equals(pole_seen) or (pole.conjugate()).equals(pole_seen)) and (multi == multi_seen):\n",
    "            return True\n",
    "\n",
    "    return False"
   ]
  },
  {
   "cell_type": "code",
   "execution_count": null,
   "metadata": {
    "tags": []
   },
   "outputs": [],
   "source": [
    "f_terms = []\n",
    "\n",
    "complex_poles_done = []\n",
    "for i in range(len(residues)):\n",
    "    if not (sym.im(poles[i])).equals(0):\n",
    "        if not conjugate_already_seen(poles[i], multi[i], complex_poles_done):\n",
    "            if sym.im(residues[i]) < 0:\n",
    "                Ak = residues[i].conjugate()\n",
    "                pk = poles[i].conjugate()\n",
    "            else:\n",
    "                Ak = residues[i]\n",
    "                pk = poles[i]\n",
    "\n",
    "            # t_var ** (multi[i] - 1) / sym.factorial(multi[i] - 1)\n",
    "            term = sym.Mul(t_var ** (multi[i] - 1) / sym.factorial(multi[i] - 1), 2 * sym.sqrt(sym.re(Ak) ** 2 + sym.im(Ak) ** 2), sym.exp(sym.re(pk) * t_var), sym.cos(sym.Add(sym.im(pk)*t_var, sym.arg(Ak), evaluate=False)))#, evaluate=False)\n",
    "\n",
    "            # Para conferir com o Wolfram\n",
    "            # term_check = sym.Mul(residues[i] / sym.factorial(multi[i] - 1), t_var ** (multi[i] - 1), sym.exp(poles[i] * t_var), evaluate=False)\n",
    "            # term_check += sym.Mul(residues[i+1] / sym.factorial(multi[i+1] - 1), t_var ** (multi[i+1] - 1), sym.exp(poles[i+1] * t_var), evaluate=False)\n",
    "            # print(term_check)\n",
    "            # print(str((term_check - term).simplify()).replace('I','i'))\n",
    "\n",
    "            print(Ak, pk, multi[i], str(term).replace('exp', 'e^'), sep='\\n')\n",
    "            print('')\n",
    "\n",
    "            complex_poles_done.append((poles[i], multi[i]))\n",
    "        else:\n",
    "            continue\n",
    "    else:\n",
    "        term = sym.Mul(residues[i] / sym.factorial(multi[i] - 1), t_var ** (multi[i] - 1), sym.exp(poles[i] * t_var), evaluate=False)\n",
    "    \n",
    "    # print(term)\n",
    "    # if multi[i] == 2:\n",
    "    f_terms.append(term)\n",
    "\n",
    "print(str(sum(f_terms)).replace('**','^').replace('exp', 'e^'))\n",
    "sum(f_terms)"
   ]
  },
  {
   "cell_type": "code",
   "execution_count": null,
   "metadata": {
    "tags": []
   },
   "outputs": [],
   "source": [
    "f_terms = []\n",
    "\n",
    "for i in range(len(residues)):\n",
    "    term = sym.Mul(residues[i] / sym.factorial(multi[i] - 1), t_var ** (multi[i] - 1), sym.exp(poles[i] * t_var), evaluate=False)\n",
    "    # print(term)\n",
    "    \n",
    "    # if multi[i] == 2:\n",
    "    f_terms.append(term)\n",
    "\n",
    "print(str(sum(f_terms)).replace('**','^').replace('I', 'i').replace('exp', 'e^'))\n",
    "sum(f_terms)"
   ]
  },
  {
   "cell_type": "code",
   "execution_count": null,
   "metadata": {
    "tags": []
   },
   "outputs": [],
   "source": [
    "# Apply the Inverse Laplace Transform from sympy\n",
    "f_complete_terms = []\n",
    "f_fraction_terms = []\n",
    "\n",
    "for term in complete_terms:\n",
    "    transform = inverse_laplace_transform(term, s_var, t_var)\n",
    "    f_complete_terms.append(transform)\n",
    "\n",
    "for term in fraction_terms:\n",
    "    transform = inverse_laplace_transform(term, s_var, t_var)\n",
    "    f_fraction_terms.append(transform)\n",
    "\n",
    "f = sum(f_complete_terms) + sum(f_fraction_terms)\n",
    "print(str(f).replace('**','^'))\n",
    "f"
   ]
  },
  {
   "cell_type": "code",
   "execution_count": null,
   "metadata": {},
   "outputs": [],
   "source": [
    "f.evalf(subs={t_var: 0.5})"
   ]
  },
  {
   "cell_type": "markdown",
   "metadata": {},
   "source": [
    "### Older Version"
   ]
  },
  {
   "cell_type": "code",
   "execution_count": null,
   "metadata": {},
   "outputs": [],
   "source": [
    "# oc = oct2py.Oct2Py()"
   ]
  },
  {
   "cell_type": "code",
   "execution_count": null,
   "metadata": {
    "tags": []
   },
   "outputs": [],
   "source": [
    "# [res, poles, poly_int, multi] = oc.residue(N_list, D_list, nout=4)\n",
    "# res = res.reshape(res.size)\n",
    "# poles = poles.reshape(poles.size)\n",
    "# multi = multi.reshape(multi.size)\n",
    "# # print(poly_int)\n",
    "# if type(poly_int) == np.ndarray:\n",
    "#     poly_int = poly_int.reshape(-1)\n",
    "# else:\n",
    "#     poly_int = np.array(poly_int, ndmin=1)\n",
    "\n",
    "# # print(poly_int)\n",
    "\n",
    "# F = 0\n",
    "# F_int_terms = []\n",
    "# F_res_terms = []\n",
    "# # Add the quocient from the polynomial division\n",
    "# if poly_int.size > 0:\n",
    "#     F_int_terms = [poly_int[poly_int.size - i - 1] * s_var ** i for i in range(poly_int.size)]\n",
    "\n",
    "\n",
    "# # Add the residue\n",
    "# for i in range(res.size):\n",
    "#     F_res_terms.append( res[i] / (s_var - poles[i]) ** int(multi[i]) )\n",
    "\n",
    "# F = sum(F_int_terms) + sum(F_res_terms)\n",
    "\n",
    "# F.simplify()\n",
    "# F"
   ]
  },
  {
   "cell_type": "code",
   "execution_count": null,
   "metadata": {
    "tags": []
   },
   "outputs": [],
   "source": [
    "# String for Wolfram\n",
    "# print(str(F).replace('I', 'i').replace('**', '^'))"
   ]
  },
  {
   "cell_type": "code",
   "execution_count": null,
   "metadata": {
    "tags": []
   },
   "outputs": [],
   "source": [
    "# f_int_terms = []\n",
    "# f_res_terms = []\n",
    "\n",
    "# for term in F_int_terms:\n",
    "#     transform = inverse_laplace_transform(term, s_var, t_var)\n",
    "#     f_int_terms.append(transform)\n",
    "\n",
    "# for term in F_res_terms:\n",
    "#     transform = inverse_laplace_transform(term, s_var, t_var)\n",
    "#     f_res_terms.append(transform)\n",
    "\n",
    "# f = sum(f_int_terms) + sum(f_res_terms)\n",
    "# f"
   ]
  },
  {
   "cell_type": "code",
   "execution_count": null,
   "metadata": {},
   "outputs": [],
   "source": []
  }
 ]
}