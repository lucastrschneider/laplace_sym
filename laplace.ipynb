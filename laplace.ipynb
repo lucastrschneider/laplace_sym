{
 "metadata": {
  "language_info": {
   "codemirror_mode": {
    "name": "ipython",
    "version": 3
   },
   "file_extension": ".py",
   "mimetype": "text/x-python",
   "name": "python",
   "nbconvert_exporter": "python",
   "pygments_lexer": "ipython3",
   "version": "3.8.2-final"
  },
  "orig_nbformat": 2,
  "kernelspec": {
   "name": "python38264bit9838909551d74a6aa782184662a5b61b",
   "display_name": "Python 3.8.2 64-bit"
  }
 },
 "nbformat": 4,
 "nbformat_minor": 2,
 "cells": [
  {
   "cell_type": "markdown",
   "metadata": {},
   "source": [
    "# Laplace\n",
    "\n",
    "Notebook to perform Laplace transformations\n",
    "\n",
    "Author: Lucas Schneider\n",
    "\n",
    "---"
   ]
  },
  {
   "cell_type": "markdown",
   "metadata": {},
   "source": [
    "## Initialization"
   ]
  },
  {
   "cell_type": "code",
   "execution_count": 1,
   "metadata": {
    "tags": []
   },
   "outputs": [],
   "source": [
    "import sympy as sym\n",
    "import numpy as np\n",
    "\n",
    "from sympy.integrals import laplace_transform\n",
    "from sympy.integrals import inverse_laplace_transform\n",
    "\n",
    "from IPython.display import display\n",
    "from IPython.display import Math\n",
    "from sympy.interactive import printing\n",
    "\n",
    "# sym.init_printing()"
   ]
  },
  {
   "cell_type": "code",
   "execution_count": 2,
   "metadata": {},
   "outputs": [],
   "source": [
    "t_var = sym.symbols('t', real=True)\n",
    "s_var = sym.symbols('s')"
   ]
  },
  {
   "cell_type": "markdown",
   "metadata": {},
   "source": [
    "## Direct Transform"
   ]
  },
  {
   "cell_type": "code",
   "execution_count": null,
   "metadata": {},
   "outputs": [],
   "source": [
    "# Other symbols declaration\n",
    "phi = sym.symbols('φ', real=True)"
   ]
  },
  {
   "cell_type": "code",
   "execution_count": null,
   "metadata": {
    "tags": []
   },
   "outputs": [],
   "source": [
    "# Input\n",
    "expression = sym.cos(t_var)\n",
    "\n",
    "expression *= sym.Heaviside(t_var)\n",
    "print(str(expression).replace('**','^'))\n",
    "expression"
   ]
  },
  {
   "cell_type": "code",
   "execution_count": null,
   "metadata": {},
   "outputs": [],
   "source": [
    "U = laplace_transform(expression, t_var, s_var)\n",
    "U[0]"
   ]
  },
  {
   "cell_type": "markdown",
   "metadata": {},
   "source": [
    "## Inverse Transform"
   ]
  },
  {
   "cell_type": "code",
   "execution_count": 3,
   "metadata": {},
   "outputs": [],
   "source": [
    "def poly_from_list(num_list, den_list, latex=True, string=False):\n",
    "    num_pol = sym.Poly(num_list, s_var)\n",
    "    den_pol = sym.Poly(den_list, s_var)\n",
    "\n",
    "    F = num_pol / den_pol\n",
    "    F_str = str(F).replace('**','^').replace('I', 'i').replace('exp', 'e^')\n",
    "    \n",
    "    if latex:\n",
    "        display(Math(f'F(s) = {printing.default_latex(F)}'))\n",
    "\n",
    "    if string:\n",
    "        print(f'String for Wolfram: {F_str}\\n')\n",
    "\n",
    "    return num_pol, den_pol"
   ]
  },
  {
   "cell_type": "code",
   "execution_count": 4,
   "metadata": {},
   "outputs": [],
   "source": [
    "def partial_fractions(num_pol, den_pol, latex=True, string=False):\n",
    "    sum_of_complete, sum_of_fraction = sym.div(num_pol, den_pol)\n",
    "\n",
    "    sum_of_fraction = sym.apart(sum_of_fraction / den_pol, full=True).doit()\n",
    "\n",
    "    fraction_terms = list(sum_of_fraction.args)\n",
    "    fraction_terms = [frac.simplify() for frac in fraction_terms]\n",
    "\n",
    "    complete_terms = [list(reversed(sum_of_complete.coeffs()))[i] * s_var ** i for i in range(len(sum_of_complete.coeffs()))]\n",
    "\n",
    "    F = sum(complete_terms) + sum(fraction_terms)\n",
    "    F_str = str(F).replace('**','^').replace('I', 'i').replace('exp', 'e^')\n",
    "\n",
    "    if latex:\n",
    "        display(Math(f'F(s) = {printing.default_latex(F)}'))\n",
    "\n",
    "    if string:\n",
    "        print(f'String for Wolfram: {F_str}\\n')\n",
    "\n",
    "    return complete_terms, fraction_terms\n"
   ]
  },
  {
   "cell_type": "code",
   "execution_count": 5,
   "metadata": {},
   "outputs": [],
   "source": [
    "def residue(num_pol, den_pol, latex=True, string=False):\n",
    "    residues = []\n",
    "    poles = []\n",
    "    multi = []\n",
    "\n",
    "    terms = partial_fractions(num_pol, den_pol, latex, string)\n",
    "\n",
    "    complete_terms, fraction_terms = terms\n",
    "\n",
    "    roots_dict = sym.polys.polyroots.roots(den_pol)\n",
    "    for root in roots_dict.keys():\n",
    "        for i in range(roots_dict[root]):\n",
    "            poles.append(root)\n",
    "            multi.append(i+1)\n",
    "\n",
    "    for i in range(len(poles)):\n",
    "        for frac in fraction_terms:\n",
    "            possible_residue = (frac * ((s_var - poles[i]) ** multi[i])).simplify()\n",
    "            if str(s_var) not in str(possible_residue):\n",
    "                # print(possible_residue, poles[i], sep='   ')\n",
    "                residues.append(possible_residue)\n",
    "\n",
    "    # TODO: Print residues table (with Pandas?)\n",
    "\n",
    "    res = residues, poles, multi\n",
    "\n",
    "    return terms, res"
   ]
  },
  {
   "cell_type": "code",
   "execution_count": 6,
   "metadata": {
    "tags": []
   },
   "outputs": [
    {
     "output_type": "display_data",
     "data": {
      "text/plain": "<IPython.core.display.Math object>",
      "text/latex": "$\\displaystyle F(s) = \\frac{20 s + 60}{s^{4} + 5 s^{3} + 13 s^{2} + 19 s + 10}$"
     },
     "metadata": {}
    },
    {
     "output_type": "display_data",
     "data": {
      "text/plain": "<IPython.core.display.Math object>",
      "text/latex": "$\\displaystyle F(s) = - \\frac{3 + i}{s + 1 + 2 i} + \\frac{-3 + i}{s + 1 - 2 i} - \\frac{4}{s + 2} + \\frac{10}{s + 1}$"
     },
     "metadata": {}
    },
    {
     "output_type": "stream",
     "name": "stdout",
     "text": "([10, -4, -3 - I, -3 + I], [-1, -2, -1 - 2*I, -1 + 2*I], [1, 1, 1, 1])\n"
    }
   ],
   "source": [
    "N_list = [20, 60]\n",
    "D_list = [1, 5, 13, 19, 10]\n",
    "N_pol, D_pol = poly_from_list(N_list, D_list)\n",
    "terms, res = residue(N_pol, D_pol)\n",
    "print(res)"
   ]
  },
  {
   "cell_type": "code",
   "execution_count": null,
   "metadata": {},
   "outputs": [],
   "source": [
    "def conjugate_already_seen(pole, multi, poles_seen):\n",
    "    for pole_seen, multi_seen in poles_seen:\n",
    "        if (pole.equals(pole_seen) or (pole.conjugate()).equals(pole_seen)) and (multi == multi_seen):\n",
    "            return True\n",
    "\n",
    "    return False"
   ]
  },
  {
   "cell_type": "code",
   "execution_count": null,
   "metadata": {
    "tags": []
   },
   "outputs": [],
   "source": [
    "f_terms = []\n",
    "\n",
    "complex_poles_done = []\n",
    "for i in range(len(residues)):\n",
    "    if not (sym.im(poles[i])).equals(0):\n",
    "        if not conjugate_already_seen(poles[i], multi[i], complex_poles_done):\n",
    "            if sym.im(residues[i]) < 0:\n",
    "                Ak = residues[i].conjugate()\n",
    "                pk = poles[i].conjugate()\n",
    "            else:\n",
    "                Ak = residues[i]\n",
    "                pk = poles[i]\n",
    "\n",
    "            # t_var ** (multi[i] - 1) / sym.factorial(multi[i] - 1)\n",
    "            term = sym.Mul(t_var ** (multi[i] - 1) / sym.factorial(multi[i] - 1), 2 * sym.sqrt(sym.re(Ak) ** 2 + sym.im(Ak) ** 2), sym.exp(sym.re(pk) * t_var), sym.cos(sym.Add(sym.im(pk)*t_var, sym.arg(Ak), evaluate=False)))#, evaluate=False)\n",
    "\n",
    "            # Para conferir com o Wolfram\n",
    "            # term_check = sym.Mul(residues[i] / sym.factorial(multi[i] - 1), t_var ** (multi[i] - 1), sym.exp(poles[i] * t_var), evaluate=False)\n",
    "            # term_check += sym.Mul(residues[i+1] / sym.factorial(multi[i+1] - 1), t_var ** (multi[i+1] - 1), sym.exp(poles[i+1] * t_var), evaluate=False)\n",
    "            # print(term_check)\n",
    "            # print(str((term_check - term).simplify()).replace('I','i'))\n",
    "\n",
    "            print(Ak, pk, multi[i], str(term).replace('exp', 'e^'), sep='\\n')\n",
    "            print('')\n",
    "\n",
    "            complex_poles_done.append((poles[i], multi[i]))\n",
    "        else:\n",
    "            continue\n",
    "    else:\n",
    "        term = sym.Mul(residues[i] / sym.factorial(multi[i] - 1), t_var ** (multi[i] - 1), sym.exp(poles[i] * t_var), evaluate=False)\n",
    "    \n",
    "    # print(term)\n",
    "    # if multi[i] == 2:\n",
    "    f_terms.append(term)\n",
    "\n",
    "print(str(sum(f_terms)).replace('**','^').replace('exp', 'e^'))\n",
    "sum(f_terms)"
   ]
  },
  {
   "cell_type": "code",
   "execution_count": null,
   "metadata": {
    "tags": []
   },
   "outputs": [],
   "source": [
    "f_terms = []\n",
    "\n",
    "for i in range(len(residues)):\n",
    "    term = sym.Mul(residues[i] / sym.factorial(multi[i] - 1), t_var ** (multi[i] - 1), sym.exp(poles[i] * t_var), evaluate=False)\n",
    "    # print(term)\n",
    "    \n",
    "    # if multi[i] == 2:\n",
    "    f_terms.append(term)\n",
    "\n",
    "print(str(sum(f_terms)).replace('**','^').replace('I', 'i').replace('exp', 'e^'))\n",
    "sum(f_terms)"
   ]
  },
  {
   "cell_type": "code",
   "execution_count": null,
   "metadata": {
    "tags": []
   },
   "outputs": [],
   "source": [
    "# Apply the Inverse Laplace Transform from sympy\n",
    "f_complete_terms = []\n",
    "f_fraction_terms = []\n",
    "\n",
    "for term in complete_terms:\n",
    "    transform = inverse_laplace_transform(term, s_var, t_var)\n",
    "    f_complete_terms.append(transform)\n",
    "\n",
    "for term in fraction_terms:\n",
    "    transform = inverse_laplace_transform(term, s_var, t_var)\n",
    "    f_fraction_terms.append(transform)\n",
    "\n",
    "f = sum(f_complete_terms) + sum(f_fraction_terms)\n",
    "print(str(f).replace('**','^'))\n",
    "f"
   ]
  },
  {
   "cell_type": "code",
   "execution_count": null,
   "metadata": {},
   "outputs": [],
   "source": [
    "f.evalf(subs={t_var: 0.5})"
   ]
  }
 ]
}