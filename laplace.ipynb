{
 "metadata": {
  "language_info": {
   "codemirror_mode": {
    "name": "ipython",
    "version": 3
   },
   "file_extension": ".py",
   "mimetype": "text/x-python",
   "name": "python",
   "nbconvert_exporter": "python",
   "pygments_lexer": "ipython3",
   "version": "3.8.2-final"
  },
  "orig_nbformat": 2,
  "kernelspec": {
   "name": "python38264bit9838909551d74a6aa782184662a5b61b",
   "display_name": "Python 3.8.2 64-bit"
  }
 },
 "nbformat": 4,
 "nbformat_minor": 2,
 "cells": [
  {
   "cell_type": "markdown",
   "metadata": {},
   "source": [
    "# Laplace\n",
    "\n",
    "Notebook to perform Laplace transformations\n",
    "\n",
    "Author: Lucas Schneider\n",
    "\n",
    "---"
   ]
  },
  {
   "cell_type": "markdown",
   "metadata": {},
   "source": [
    "## Initialization"
   ]
  },
  {
   "cell_type": "code",
   "execution_count": 1,
   "metadata": {
    "tags": []
   },
   "outputs": [],
   "source": [
    "import sympy as sym\n",
    "import numpy as np\n",
    "\n",
    "from sympy.integrals import laplace_transform\n",
    "from sympy.integrals import inverse_laplace_transform\n",
    "\n",
    "from IPython.display import display\n",
    "from IPython.display import Math\n",
    "from sympy.interactive import printing\n",
    "\n",
    "import scipy.signal as sig\n",
    "\n",
    "# sym.init_printing()"
   ]
  },
  {
   "cell_type": "code",
   "execution_count": 2,
   "metadata": {},
   "outputs": [],
   "source": [
    "t_var = sym.symbols('t', real=True)\n",
    "s_var = sym.symbols('s')\n",
    "d_domain = 'RR'\n",
    "d_digits = 5"
   ]
  },
  {
   "cell_type": "code",
   "execution_count": 3,
   "metadata": {},
   "outputs": [],
   "source": [
    "def round_expr(expr, num_digits = d_digits):\n",
    "    return expr.xreplace({n : round(n, num_digits) for n in expr.atoms(sym.Number)})"
   ]
  },
  {
   "cell_type": "markdown",
   "metadata": {},
   "source": [
    "---\n",
    "\n",
    "## Direct Transform"
   ]
  },
  {
   "cell_type": "code",
   "execution_count": null,
   "metadata": {},
   "outputs": [],
   "source": [
    "# Other symbols declaration\n",
    "phi = sym.symbols('φ', real=True)"
   ]
  },
  {
   "cell_type": "code",
   "execution_count": null,
   "metadata": {
    "tags": []
   },
   "outputs": [],
   "source": [
    "# Input\n",
    "expression = sym.cos(t_var)\n",
    "\n",
    "expression *= sym.Heaviside(t_var)\n",
    "print(str(expression).replace('**','^'))\n",
    "expression"
   ]
  },
  {
   "cell_type": "code",
   "execution_count": null,
   "metadata": {},
   "outputs": [],
   "source": [
    "U = laplace_transform(expression, t_var, s_var)\n",
    "U[0]"
   ]
  },
  {
   "cell_type": "markdown",
   "metadata": {},
   "source": [
    "---\n",
    "\n",
    "## Inverse Transform"
   ]
  },
  {
   "source": [
    "### Functions definition"
   ],
   "cell_type": "markdown",
   "metadata": {}
  },
  {
   "cell_type": "code",
   "execution_count": 4,
   "metadata": {},
   "outputs": [],
   "source": [
    "def poly_from_list(num_list, den_list, domain = d_domain, print_latex=True, print_string=False):\n",
    "    '''\n",
    "    Transforms the list of coefficients into sympy polynomial objects\n",
    "\n",
    "    Parameters\n",
    "    ----------\n",
    "    num_list : list of floats\n",
    "    den_list : list of floats\n",
    "    domain : string\n",
    "    print_latex : bool\n",
    "    print_string : bool\n",
    "\n",
    "    Returns\n",
    "    -------\n",
    "    num_pol : sympy.Poly\n",
    "    den_pol : sympy.Poly\n",
    "    \n",
    "    '''\n",
    "\n",
    "    num_pol = sym.Poly(num_list, s_var, domain=domain)\n",
    "    den_pol = sym.Poly(den_list, s_var, domain=domain)\n",
    "\n",
    "    F = num_pol / den_pol\n",
    "    F_str = str(F).replace('**','^').replace('I', 'i').replace('exp', 'e^')\n",
    "    \n",
    "    if print_latex:\n",
    "        display(Math(f'F(s) = {printing.default_latex(F)}'))\n",
    "\n",
    "    if print_string:\n",
    "        print(f'String for Wolfram: {F_str}\\n')\n",
    "\n",
    "    return num_pol, den_pol"
   ]
  },
  {
   "cell_type": "code",
   "execution_count": 5,
   "metadata": {},
   "outputs": [],
   "source": [
    "def residue(num_pol, den_pol, print_latex=True, print_string=False):\n",
    "    '''\n",
    "    Calulates the partial fraction and residues for the given rational polynomial\n",
    "\n",
    "    Parameters\n",
    "    ----------\n",
    "    num_pol : sympy.Poly\n",
    "    den_pol : sympy.Poly\n",
    "    print_latex : bool\n",
    "    print_string : bool\n",
    "\n",
    "    Returns\n",
    "    -------\n",
    "    residues: list of floats\n",
    "        Resiudes of the fraction part\n",
    "    poles: list of floats\n",
    "        Poles of the fraction part\n",
    "    multi: list of floats\n",
    "        Poles's multiplicity\n",
    "    complete : list of floats\n",
    "        Coefficients of complete part\n",
    "    '''\n",
    "\n",
    "    r, p, k = sig.residue(N_list, D_list)\n",
    "\n",
    "    m=[]\n",
    "    last_pole = None\n",
    "    last_s = 1\n",
    "    for pole in p:\n",
    "        if pole == last_pole:\n",
    "            m.append(last_multi + 1)\n",
    "            last_multi += 1\n",
    "        else:\n",
    "            m.append(1)\n",
    "            last_multi = 1\n",
    "            last_pole = pole\n",
    "\n",
    "    # TODO: Print residues table (with Pandas?)\n",
    "    \n",
    "    return r, p, m, k\n"
   ]
  },
  {
   "cell_type": "code",
   "execution_count": 6,
   "metadata": {},
   "outputs": [],
   "source": [
    "def partial_fractions(residues, poles, multi, complete, domain=d_domain):\n",
    "    '''\n",
    "    Display the partial fraction representation from the residues\n",
    "\n",
    "    Parameters\n",
    "    ----------\n",
    "    residues: list of floats\n",
    "    poles: list of floats\n",
    "    multi: list of floats\n",
    "    complete : list of floats\n",
    "    domain : string\n",
    "    '''\n",
    "\n",
    "    terms = []\n",
    "    terms.append(sym.Poly(complete, s_var, domain=domain).as_expr())\n",
    "    for i in range(len(residues)):\n",
    "        residue = residues[i]\n",
    "        pole = poles[i]\n",
    "        mult = multi[i]\n",
    "\n",
    "        term = sym.Mul(residue, 1/(s_var - pole)**mult)\n",
    "        terms.append(term)\n",
    "\n",
    "    display(Math(f'F(t) = {printing.default_latex(round_expr(sum(terms)))}'))\n"
   ]
  },
  {
   "cell_type": "code",
   "execution_count": 7,
   "metadata": {},
   "outputs": [],
   "source": [
    "def conjugate_seen(pole, multi, poles_seen):\n",
    "    '''\n",
    "    Checks if an specific pole or its conjugate has already been computed before, with the same multiplicity\n",
    "\n",
    "    Parameters\n",
    "    ----------\n",
    "    pole : copmlex\n",
    "    multi : int\n",
    "    poles_seen : list of tuples, with pole and its multiplicity\n",
    "\n",
    "    Returns\n",
    "    -------\n",
    "    True or False\n",
    "    '''\n",
    "    for pole_seen, multi_seen in poles_seen:\n",
    "        if (pole == pole_seen.conjugate()) and (multi == multi_seen):\n",
    "            return True\n",
    "\n",
    "    return False\n",
    "\n",
    "\n",
    "def ILP_from_residues(residues, poles, multi, complete, complex_simplify=True, print_latex=True, print_string=False):\n",
    "    '''\n",
    "    Perform the Inverse Laplace Transform for the given residues\n",
    "\n",
    "    Parameters\n",
    "    ----------\n",
    "    residues: list of floats\n",
    "    poles: list of floats\n",
    "    multi: list of floats\n",
    "    complete : list of floats\n",
    "\n",
    "    complex_simplify : bool\n",
    "    print_latex : bool\n",
    "    print_string : bool\n",
    "\n",
    "    Returns\n",
    "    -------\n",
    "    f : sympy.Expr\n",
    "    '''\n",
    "\n",
    "    f_terms_complete = [complete[i] * sym.diff(sym.DiracDelta(t_var), t_var, len(complete) -1 -i) for i in range(len(complete))]\n",
    "\n",
    "    f_terms_fraction = []\n",
    "\n",
    "    complex_poles_pairs = []\n",
    "    for i in range(len(residues)):\n",
    "        residue = complex(residues[i])\n",
    "        pole = complex(poles[i])\n",
    "        mult = multi[i]\n",
    "\n",
    "        if (abs(pole.imag) > 0.) and complex_simplify:\n",
    "            term = 0\n",
    "            if not conjugate_seen(pole, mult, complex_poles_pairs):\n",
    "                if pole.imag < 0.:\n",
    "                    Ak = residue.conjugate()\n",
    "                    pk = pole.conjugate()\n",
    "                else:\n",
    "                    Ak = residue\n",
    "                    pk = pole\n",
    "\n",
    "                term = sym.Mul(t_var ** (mult-1) / sym.factorial(mult-1), 2 * sym.sqrt(Ak.real ** 2 + Ak.imag ** 2), sym.exp(pk.real * t_var), sym.cos(sym.Add(pk.imag*t_var, sym.arg(Ak)), evaluate=False), evaluate=False)\n",
    "\n",
    "                complex_poles_pairs.append((pole, mult))\n",
    "            else:\n",
    "                continue\n",
    "        else:\n",
    "            term = sym.Mul(residues[i] / sym.factorial(mult - 1), t_var ** (mult - 1), sym.exp(poles[i] * t_var), evaluate=False)\n",
    " \n",
    "        f_terms_fraction.append(term)\n",
    "\n",
    "    f = sum(f_terms_complete) + sym.Mul(sum(f_terms_fraction), sym.Heaviside(t_var), evaluate=False)\n",
    "    f = round_expr(f)\n",
    "    f_str = str(f).replace('**','^').replace('I', 'i').replace('exp', 'e^')\n",
    "\n",
    "    if print_latex:\n",
    "        display(Math(f'f(t) = {printing.default_latex(f)}'))\n",
    "\n",
    "    if print_string:\n",
    "        print(f'String for Wolfram: {f_str}\\n')\n",
    "\n",
    "    return f\n"
   ]
  },
  {
   "cell_type": "code",
   "execution_count": 8,
   "metadata": {},
   "outputs": [],
   "source": [
    "def evaluate_f(f, t, print_latex = True):\n",
    "    f_t = f.evalf(subs={t_var: t})\n",
    "\n",
    "    if print_latex:\n",
    "        display(Math(f'f({t}) = {f_t}'))\n",
    "        \n",
    "    return f_t\n"
   ]
  },
  {
   "source": [
    "### Rational functions\n",
    "\n",
    "Define the polynomials"
   ],
   "cell_type": "markdown",
   "metadata": {}
  },
  {
   "cell_type": "code",
   "execution_count": 9,
   "metadata": {
    "tags": []
   },
   "outputs": [
    {
     "output_type": "display_data",
     "data": {
      "text/plain": "<IPython.core.display.Math object>",
      "text/latex": "$\\displaystyle F(s) = \\frac{4.0 s}{1.0 s^{3} + 2.0 s^{2} + 16.0 s + 32.0}$"
     },
     "metadata": {}
    },
    {
     "output_type": "stream",
     "name": "stdout",
     "text": "String for Wolfram: 4.0*s/(1.0*s^3 + 2.0*s^2 + 16.0*s + 32.0)\n\n"
    }
   ],
   "source": [
    "N_list = [4,0]\n",
    "D_list = [1,2,16,32]\n",
    "\n",
    "polys = poly_from_list(N_list, D_list, print_string=True)"
   ]
  },
  {
   "cell_type": "code",
   "execution_count": 10,
   "metadata": {
    "tags": []
   },
   "outputs": [
    {
     "output_type": "display_data",
     "data": {
      "text/plain": "<IPython.core.display.Math object>",
      "text/latex": "$\\displaystyle F(t) = \\frac{0.2 + 0.4 i}{s + 4.0 i} + \\frac{0.2 - 0.4 i}{s - 4.0 i} - \\frac{0.4}{s + 2.0}$"
     },
     "metadata": {}
    },
    {
     "output_type": "display_data",
     "data": {
      "text/plain": "<IPython.core.display.Math object>",
      "text/latex": "$\\displaystyle f(t) = \\left(0.89443 \\cos{\\left(4.0 t - 1.10715 \\right)} - 0.4 e^{- 2.0 t}\\right) \\theta\\left(t\\right)$"
     },
     "metadata": {}
    }
   ],
   "source": [
    "res = residue(N_list, D_list)\n",
    "partial_fractions(*res)\n",
    "f_res = ILP_from_residues(*res, complex_simplify=True, print_string=False)"
   ]
  },
  {
   "source": [
    "### Any function"
   ],
   "cell_type": "markdown",
   "metadata": {}
  },
  {
   "cell_type": "code",
   "execution_count": 39,
   "metadata": {},
   "outputs": [
    {
     "output_type": "display_data",
     "data": {
      "text/plain": "<IPython.core.display.Math object>",
      "text/latex": "$\\displaystyle F(t) = \\frac{s + 3}{s^{3} + 3 s^{2} + 2 s}$"
     },
     "metadata": {}
    }
   ],
   "source": [
    "# Use the polynomials from above\n",
    "\n",
    "polys = poly_from_list(N_list, D_list, domain='QQ', print_latex=False)\n",
    "F_func = polys[0] / polys[1]\n",
    "\n",
    "# Define function with sympy expression\n",
    "\n",
    "# F_func = (sym.cos(sym.pi/4) * s_var -2*sym.sin(sym.pi/4))/(s_var**2 + 4)\n",
    "\n",
    "display(Math(f'F(t) = {printing.default_latex(F_func)}'))"
   ]
  },
  {
   "cell_type": "code",
   "execution_count": 40,
   "metadata": {},
   "outputs": [
    {
     "output_type": "display_data",
     "data": {
      "text/plain": "<IPython.core.display.Math object>",
      "text/latex": "$\\displaystyle f(t) = \\frac{\\left(3 e^{2 t} - 4 e^{t} + 1\\right) e^{- 2 t} \\theta\\left(t\\right)}{2}$"
     },
     "metadata": {}
    }
   ],
   "source": [
    "f_func = inverse_laplace_transform(F_func, s_var, t_var).simplify()\n",
    "display(Math(f'f(t) = {printing.default_latex(f_func)}'))\n",
    "\n",
    "# result = evaluate_f(f_res, 0.5)"
   ]
  },
  {
   "cell_type": "code",
   "execution_count": null,
   "metadata": {},
   "outputs": [],
   "source": []
  }
 ]
}