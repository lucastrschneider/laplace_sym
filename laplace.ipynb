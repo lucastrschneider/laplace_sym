{
 "metadata": {
  "language_info": {
   "codemirror_mode": {
    "name": "ipython",
    "version": 3
   },
   "file_extension": ".py",
   "mimetype": "text/x-python",
   "name": "python",
   "nbconvert_exporter": "python",
   "pygments_lexer": "ipython3",
   "version": "3.8.2-final"
  },
  "orig_nbformat": 2,
  "kernelspec": {
   "name": "python38264bit9838909551d74a6aa782184662a5b61b",
   "display_name": "Python 3.8.2 64-bit"
  }
 },
 "nbformat": 4,
 "nbformat_minor": 2,
 "cells": [
  {
   "cell_type": "markdown",
   "metadata": {},
   "source": [
    "# Laplace\n",
    "\n",
    "Notebook to perform Laplace transformations\n",
    "\n",
    "Author: Lucas Schneider\n",
    "\n",
    "---"
   ]
  },
  {
   "cell_type": "markdown",
   "metadata": {},
   "source": [
    "## Initialization"
   ]
  },
  {
   "cell_type": "code",
   "execution_count": 1,
   "metadata": {
    "tags": []
   },
   "outputs": [],
   "source": [
    "import sympy as sym\n",
    "import numpy as np\n",
    "\n",
    "from sympy.integrals import laplace_transform\n",
    "from sympy.integrals import inverse_laplace_transform\n",
    "\n",
    "from IPython.display import display\n",
    "from IPython.display import Math\n",
    "from sympy.interactive import printing\n",
    "\n",
    "# sym.init_printing()"
   ]
  },
  {
   "cell_type": "code",
   "execution_count": 2,
   "metadata": {},
   "outputs": [],
   "source": [
    "t_var = sym.symbols('t', real=True)\n",
    "s_var = sym.symbols('s')"
   ]
  },
  {
   "cell_type": "markdown",
   "metadata": {},
   "source": [
    "## Direct Transform"
   ]
  },
  {
   "cell_type": "code",
   "execution_count": null,
   "metadata": {},
   "outputs": [],
   "source": [
    "# Other symbols declaration\n",
    "phi = sym.symbols('φ', real=True)"
   ]
  },
  {
   "cell_type": "code",
   "execution_count": null,
   "metadata": {
    "tags": []
   },
   "outputs": [],
   "source": [
    "# Input\n",
    "expression = sym.cos(t_var)\n",
    "\n",
    "expression *= sym.Heaviside(t_var)\n",
    "print(str(expression).replace('**','^'))\n",
    "expression"
   ]
  },
  {
   "cell_type": "code",
   "execution_count": null,
   "metadata": {},
   "outputs": [],
   "source": [
    "U = laplace_transform(expression, t_var, s_var)\n",
    "U[0]"
   ]
  },
  {
   "cell_type": "markdown",
   "metadata": {},
   "source": [
    "## Inverse Transform"
   ]
  },
  {
   "cell_type": "code",
   "execution_count": 3,
   "metadata": {},
   "outputs": [],
   "source": [
    "def poly_from_list(num_list, den_list, print_latex=True, print_string=False):\n",
    "    '''\n",
    "    Transforms the list of coefficients into sympy polynomial objects\n",
    "\n",
    "    Parameters\n",
    "    ----------\n",
    "    num_list : list of floats\n",
    "    den_list : list of floats\n",
    "    print_latex : bool\n",
    "    print_string : bool\n",
    "\n",
    "    Returns\n",
    "    -------\n",
    "    num_pol : sympy.Poly\n",
    "    den_pol : sympy.Poly\n",
    "    \n",
    "    '''\n",
    "\n",
    "    num_pol = sym.Poly(num_list, s_var)\n",
    "    den_pol = sym.Poly(den_list, s_var)\n",
    "\n",
    "    F = num_pol / den_pol\n",
    "    F_str = str(F).replace('**','^').replace('I', 'i').replace('exp', 'e^')\n",
    "    \n",
    "    if print_latex:\n",
    "        display(Math(f'F(s) = {printing.default_latex(F)}'))\n",
    "\n",
    "    if print_string:\n",
    "        print(f'String for Wolfram: {F_str}\\n')\n",
    "\n",
    "    return num_pol, den_pol"
   ]
  },
  {
   "cell_type": "code",
   "execution_count": 4,
   "metadata": {},
   "outputs": [],
   "source": [
    "def partial_fractions(num_pol, den_pol, print_latex=True, print_string=False):\n",
    "    '''\n",
    "    Apply the partial fraction transformation with the rational polynomial\n",
    "\n",
    "    Parameters\n",
    "    ----------\n",
    "    num_pol : sympy.Poly\n",
    "    den_pol : sympy.Poly\n",
    "    print_latex : bool\n",
    "    print_string : bool\n",
    "\n",
    "    Returns\n",
    "    -------\n",
    "    complete_terms : list of sympy.Expr\n",
    "    fraction_terms : list of sympy.Expr\n",
    "    '''\n",
    "\n",
    "    sum_of_complete, sum_of_fraction = sym.div(num_pol, den_pol)\n",
    "\n",
    "    sum_of_fraction = sym.apart(sum_of_fraction / den_pol, full=True).doit()\n",
    "\n",
    "    fraction_terms = list(sum_of_fraction.args)\n",
    "    fraction_terms = [frac.simplify() for frac in fraction_terms]\n",
    "\n",
    "    complete_terms = [list(reversed(sum_of_complete.coeffs()))[i] * s_var ** i for i in range(len(sum_of_complete.coeffs()))]\n",
    "\n",
    "    F = sum(complete_terms) + sum(fraction_terms)\n",
    "    F_str = str(F).replace('**','^').replace('I', 'i').replace('exp', 'e^')\n",
    "\n",
    "    if print_latex:\n",
    "        display(Math(f'F(s) = {printing.default_latex(F)}'))\n",
    "\n",
    "    if print_string:\n",
    "        print(f'String for Wolfram: {F_str}\\n')\n",
    "\n",
    "    return complete_terms, fraction_terms\n"
   ]
  },
  {
   "cell_type": "code",
   "execution_count": 5,
   "metadata": {},
   "outputs": [],
   "source": [
    "def residue(num_pol, den_pol, print_latex=True, print_string=False):\n",
    "    '''\n",
    "    Calulates the partial fraction and residues for the given rational polynomial\n",
    "\n",
    "    Parameters\n",
    "    ----------\n",
    "    num_pol : sympy.Poly\n",
    "    den_pol : sympy.Poly\n",
    "    print_latex : bool\n",
    "    print_string : bool\n",
    "\n",
    "    Returns\n",
    "    -------\n",
    "    residues: list of floats\n",
    "        Resiudes of the fraction part\n",
    "    poles: list of floats\n",
    "        Poles of the fraction part\n",
    "    multi: list of floats\n",
    "        Poles's multiplicity\n",
    "    complete : list of floats\n",
    "        Coefficients of complete part\n",
    "    '''\n",
    "    residues = []\n",
    "    poles = []\n",
    "    multi = []\n",
    "    complete = []\n",
    "\n",
    "    complete_terms, fraction_terms = partial_fractions(num_pol, den_pol, print_latex, print_string)\n",
    "\n",
    "    if len(complete_terms) > 1:\n",
    "        complete = sym.Poly(sum(complete_terms)).coeffs()\n",
    "    elif len(complete_terms) == 1:\n",
    "        complete = complete_terms\n",
    "\n",
    "    roots_dict = sym.polys.polyroots.roots(den_pol)\n",
    "    for root in roots_dict.keys():\n",
    "        for i in range(roots_dict[root]):\n",
    "            poles.append(root)\n",
    "            multi.append(i+1)\n",
    "\n",
    "    for i in range(len(poles)):\n",
    "        for frac in fraction_terms:\n",
    "            possible_residue = (frac * ((s_var - poles[i]) ** multi[i])).simplify()\n",
    "            if str(s_var) not in str(possible_residue):\n",
    "                # print(possible_residue, poles[i], sep='   ')\n",
    "                residues.append(possible_residue)\n",
    "\n",
    "    # TODO: Print residues table (with Pandas?)\n",
    "\n",
    "    return residues, poles, multi, complete"
   ]
  },
  {
   "cell_type": "code",
   "execution_count": 6,
   "metadata": {},
   "outputs": [],
   "source": [
    "def conjugate_already_seen(pole, multi, poles_seen):\n",
    "    '''\n",
    "    Checks if an specific pole or its conjugate has already been computed before, with the same multiplicity\n",
    "\n",
    "    Parameters\n",
    "    ----------\n",
    "    pole : copmlex\n",
    "    multi : int\n",
    "    poles_seen : list of tuples, with pole and its multiplicity\n",
    "\n",
    "    Returns\n",
    "    -------\n",
    "    True or False\n",
    "    '''\n",
    "    for pole_seen, multi_seen in poles_seen:\n",
    "        if (pole.equals(pole_seen) or (pole.conjugate()).equals(pole_seen)) and (multi == multi_seen):\n",
    "            return True\n",
    "\n",
    "    return False\n",
    "\n",
    "\n",
    "def ILP_from_residues(residues, poles, multi, complete, complex_simplify=True, print_latex=True, print_string=False):\n",
    "    '''\n",
    "    Perform the Inverse Laplace Transform from the given residues\n",
    "\n",
    "    Parameters\n",
    "    ----------\n",
    "    residues: list of floats\n",
    "    poles: list of floats\n",
    "    multi: list of floats\n",
    "    complete : list of floats\n",
    "\n",
    "    print_latex : bool\n",
    "    print_string : bool\n",
    "\n",
    "    Returns\n",
    "    -------\n",
    "    f_terms : list of sympy.Expr\n",
    "    '''\n",
    "\n",
    "    f_terms_complete = [complete[i] * sym.diff(sym.DiracDelta(s_var), s_var, len(complete) -1 -i) for i in range(len(complete))]\n",
    "\n",
    "    f_terms_fraction = []\n",
    "\n",
    "    complex_poles_pairs = []\n",
    "    for i in range(len(residues)):\n",
    "        k_min_1 = multi[i] - 1\n",
    "        if (not (sym.im(poles[i])).equals(0)) and complex_simplify:\n",
    "            if not conjugate_already_seen(poles[i], multi[i], complex_poles_pairs):\n",
    "                if sym.im(residues[i]) < 0:\n",
    "                    Ak = residues[i].conjugate()\n",
    "                    pk = poles[i].conjugate()\n",
    "                else:\n",
    "                    Ak = residues[i]\n",
    "                    pk = poles[i]\n",
    "\n",
    "                term = sym.Mul(t_var ** (k_min_1) / sym.factorial(k_min_1), 2 * sym.sqrt(sym.re(Ak) ** 2 + sym.im(Ak) ** 2), sym.exp(sym.re(pk) * t_var), sym.cos(sym.Add(sym.im(pk)*t_var, sym.arg(Ak), evaluate=False)))\n",
    "\n",
    "                complex_poles_pairs.append((poles[i], multi[i]))\n",
    "            else:\n",
    "                continue\n",
    "        else:\n",
    "            term = sym.Mul(residues[i] / sym.factorial(k_min_1), t_var ** (k_min_1), sym.exp(poles[i] * t_var), evaluate=False)\n",
    "        \n",
    "        # print(term)\n",
    "        # if multi[i] == 2:\n",
    "        f_terms_fraction.append(term)\n",
    "\n",
    "    f = sum(f_terms_complete) + sym.Mul(sum(f_terms_fraction), sym.Heaviside(t_var), evaluate=False)\n",
    "    f_str = str(f).replace('**','^').replace('I', 'i').replace('exp', 'e^')\n",
    "\n",
    "    if print_latex:\n",
    "        display(Math(f'f(t) = {printing.default_latex(f)}'))\n",
    "\n",
    "    if print_string:\n",
    "        print(f'String for Wolfram: {f_str}\\n')\n",
    "\n",
    "    return f\n"
   ]
  },
  {
   "cell_type": "code",
   "execution_count": 7,
   "metadata": {
    "tags": []
   },
   "outputs": [
    {
     "output_type": "display_data",
     "data": {
      "text/plain": "<IPython.core.display.Math object>",
      "text/latex": "$\\displaystyle F(s) = \\frac{s^{4} + 5 s^{3} + 4 s^{2} + 3 s + 1}{s^{3} + 3 s^{2} + 2 s}$"
     },
     "metadata": {}
    },
    {
     "output_type": "display_data",
     "data": {
      "text/plain": "<IPython.core.display.Math object>",
      "text/latex": "$\\displaystyle F(s) = s + 2 - \\frac{13}{2 s + 4} + \\frac{2}{s + 1} + \\frac{1}{2 s}$"
     },
     "metadata": {}
    },
    {
     "output_type": "display_data",
     "data": {
      "text/plain": "<IPython.core.display.Math object>",
      "text/latex": "$\\displaystyle f(t) = \\left(\\frac{1}{2} + 2 e^{- t} - \\frac{13 e^{- 2 t}}{2}\\right) \\theta\\left(t\\right) + 2 \\delta\\left(s\\right) + \\delta^{\\left( 1 \\right)}\\left( s \\right)$"
     },
     "metadata": {}
    },
    {
     "output_type": "stream",
     "name": "stdout",
     "text": "String for Wolfram: (1/2 + 2*e^(-t) - 13*e^(-2*t)/2)*Heaviside(t) + 2*DiracDelta(s) + DiracDelta(s, 1)\n\n"
    }
   ],
   "source": [
    "N_list = [1, 5, 4, 3, 1]\n",
    "D_list = [1, 3, 2, 0]\n",
    "\n",
    "pol = poly_from_list(N_list, D_list)\n",
    "res = residue(*pol)\n",
    "f = ILP_from_residues(*res, print_string=True)"
   ]
  },
  {
   "cell_type": "code",
   "execution_count": 8,
   "metadata": {
    "tags": []
   },
   "outputs": [
    {
     "output_type": "display_data",
     "data": {
      "text/plain": "<IPython.core.display.Math object>",
      "text/latex": "$\\displaystyle F(s) = s + 2 - \\frac{13}{2 s + 4} + \\frac{2}{s + 1} + \\frac{1}{2 s}$"
     },
     "metadata": {}
    },
    {
     "output_type": "stream",
     "name": "stdout",
     "text": "InverseLaplaceTransform(s, s, t, _None) + 2*DiracDelta(t) + Heaviside(t)/2 + 2*exp(-t)*Heaviside(t) - 13*exp(-2*t)*Heaviside(t)/2\n"
    },
    {
     "output_type": "execute_result",
     "data": {
      "text/plain": "InverseLaplaceTransform(s, s, t, _None) + 2*DiracDelta(t) + Heaviside(t)/2 + 2*exp(-t)*Heaviside(t) - 13*exp(-2*t)*Heaviside(t)/2",
      "text/latex": "$\\displaystyle \\mathcal{L}^{-1}_{s}\\left[s\\right]\\left(t\\right) + 2 \\delta\\left(t\\right) + \\frac{\\theta\\left(t\\right)}{2} + 2 e^{- t} \\theta\\left(t\\right) - \\frac{13 e^{- 2 t} \\theta\\left(t\\right)}{2}$"
     },
     "metadata": {},
     "execution_count": 8
    }
   ],
   "source": [
    "# Apply the Inverse Laplace Transform from sympy\n",
    "f_complete_terms = []\n",
    "f_fraction_terms = []\n",
    "\n",
    "complete_terms, fraction_terms = partial_fractions(*pol)\n",
    "\n",
    "for term in complete_terms:\n",
    "    transform = inverse_laplace_transform(term, s_var, t_var)\n",
    "    f_complete_terms.append(transform)\n",
    "\n",
    "for term in fraction_terms:\n",
    "    transform = inverse_laplace_transform(term, s_var, t_var)\n",
    "    f_fraction_terms.append(transform)\n",
    "\n",
    "f = sum(f_complete_terms) + sum(f_fraction_terms)\n",
    "print(str(f).replace('**','^'))\n",
    "f"
   ]
  },
  {
   "cell_type": "code",
   "execution_count": null,
   "metadata": {},
   "outputs": [],
   "source": [
    "f.evalf(subs={t_var: 0.5})"
   ]
  }
 ]
}